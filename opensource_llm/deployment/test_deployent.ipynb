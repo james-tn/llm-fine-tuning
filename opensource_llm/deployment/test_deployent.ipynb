{
 "cells": [
  {
   "cell_type": "code",
   "execution_count": null,
   "metadata": {},
   "outputs": [
    {
     "name": "stdout",
     "output_type": "stream",
     "text": [
      "{\"id\":\"cmpl-77c4cadde1f44ea2b7e884b2c1694ff6\",\"object\":\"text_completion\",\"created\":1732568797,\"model\":\"/models/llama2_13b_chat_sql_tuned/artifacts/trained_model\",\"choices\":[{\"index\":0,\"text\":\" city located in the state of California, in the western United States. It is known for its iconic landmarks such as the Golden Gate Bridge and Alcatraz Island, as well as its vibrant cultural and artistic scene.\\n\\nSan Francisco is a popular tourist destination and offers a wide range of activities and attractions, including:\\n\\n* Fisherman's Wharf: A bustling waterfront district with seafood restaurants, street performers, and souvenir shops.\\n* Chinatown: One of the largest and oldest Chinatowns in the United States, with authentic Chinese cuisine and cultural attractions.\\n* Golden Gate Park: A sprawling urban park with gardens, museums, and the famous Japanese Tea Garden.\\n* Alcatraz Island: A former prison turned national park, with guided tours of the prison and stunning views of the San Francisco Bay.\\n* The\",\"logprobs\":null,\"finish_reason\":\"length\",\"stop_reason\":null,\"prompt_logprobs\":null}],\"usage\":{\"prompt_tokens\":5,\"total_tokens\":205,\"completion_tokens\":200,\"prompt_tokens_details\":null}}\n"
     ]
    }
   ],
   "source": [
    "import requests\n",
    "\n",
    "url = \"https://llma2-fine-tuning.westus2.inference.ml.azure.com/v1/completions\"\n",
    "headers = {\n",
    "    \"Content-Type\": \"application/json\",\n",
    "    \"Authorization\": \"Bearer TOKEN_HERE\",\n",
    "    \"azureml-model-deployment\":\"NAME_OF_DEPLOYMENT\"\n",
    "}\n",
    "data = {\n",
    "    \"model\": \"/models/llama2_13b_chat_sql_tuned/artifacts/trained_model\",\n",
    "    \"prompt\": \"San Francisco is a\",\n",
    "    \"max_tokens\": 200,\n",
    "    \"temperature\": 0.7\n",
    "}\n",
    "\n",
    "response = requests.post(url, headers=headers, json=data)\n",
    "print(response.text)\n"
   ]
  },
  {
   "cell_type": "code",
   "execution_count": null,
   "metadata": {},
   "outputs": [],
   "source": []
  }
 ],
 "metadata": {
  "kernelspec": {
   "display_name": "llm",
   "language": "python",
   "name": "python3"
  },
  "language_info": {
   "codemirror_mode": {
    "name": "ipython",
    "version": 3
   },
   "file_extension": ".py",
   "mimetype": "text/x-python",
   "name": "python",
   "nbconvert_exporter": "python",
   "pygments_lexer": "ipython3",
   "version": "3.10.12"
  }
 },
 "nbformat": 4,
 "nbformat_minor": 2
}
